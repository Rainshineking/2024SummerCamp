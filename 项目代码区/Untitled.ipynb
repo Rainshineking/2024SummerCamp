{
 "cells": [
  {
   "cell_type": "code",
   "execution_count": null,
   "id": "cf721d8d",
   "metadata": {},
   "outputs": [],
   "source": [
    "import numpy as np\n",
    "import pandas as pd\n",
    "import matplotlib.pyplot as plt\n",
    "from sklearn.preprocessing import MinMaxScaler\n",
    "from tensorflow.keras.models import Sequential\n",
    "from tensorflow.keras.layers import LSTM, Dense"
   ]
  },
  {
   "cell_type": "code",
   "execution_count": null,
   "id": "484d50e3",
   "metadata": {},
   "outputs": [],
   "source": [
    "# 1. 读取和准备数据\n",
    "# 数据存储在 'temperature_data.csv' 文件中\n",
    "data = pd.read_csv('temperature_data.csv', parse_dates=['timestamp'], index_col='timestamp')\n",
    "\n",
    "# 只使用温度列\n",
    "temperature_data = data['temperature'].values.reshape(-1, 1)\n",
    "\n",
    "# 标准化数据\n",
    "scaler = MinMaxScaler(feature_range=(0, 1))\n",
    "temperature_data_scaled = scaler.fit_transform(temperature_data)\n",
    "\n",
    "# 定义预测时间窗口\n",
    "look_back = 24  # 预测未来24小时的温度\n",
    "\n",
    "# 准备训练数据和标签\n",
    "X, y = [], []\n",
    "for i in range(len(temperature_data_scaled) - look_back):\n",
    "    X.append(temperature_data_scaled[i:(i + look_back), 0])\n",
    "    y.append(temperature_data_scaled[i + look_back, 0])\n",
    "\n",
    "X = np.array(X)\n",
    "y = np.array(y)\n",
    "\n",
    "# 将数据reshape成LSTM所需的3D格式\n",
    "X = X.reshape((X.shape[0], X.shape[1], 1))"
   ]
  },
  {
   "cell_type": "code",
   "execution_count": null,
   "id": "7b2838e6",
   "metadata": {},
   "outputs": [],
   "source": [
    "# 2. 构建 LSTM 模型\n",
    "model = Sequential()\n",
    "model.add(LSTM(units=50, return_sequences=True, input_shape=(X.shape[1], 1)))\n",
    "model.add(LSTM(units=50))\n",
    "model.add(Dense(1))  # 输出单一预测值\n",
    "\n",
    "model.compile(optimizer='adam', loss='mean_squared_error')"
   ]
  },
  {
   "cell_type": "code",
   "execution_count": null,
   "id": "2889a09d",
   "metadata": {},
   "outputs": [],
   "source": [
    "# 3. 训练模型\n",
    "model.fit(X, y, epochs=30, batch_size=32, validation_split=0.2)"
   ]
  },
  {
   "cell_type": "code",
   "execution_count": null,
   "id": "697a168d",
   "metadata": {},
   "outputs": [],
   "source": [
    "# 4. 预测未来 24 小时的气温\n",
    "# 使用最后的 'look_back' 小时的数据来进行预测\n",
    "last_24_hours_data = temperature_data_scaled[-look_back:]\n",
    "last_24_hours_data = last_24_hours_data.reshape((1, look_back, 1))\n",
    "\n",
    "# 预测未来24小时的气温\n",
    "predicted_temperature_scaled = []\n",
    "\n",
    "for _ in range(24):\n",
    "    # 使用模型预测下一小时的气温\n",
    "    next_temp_scaled = model.predict(last_24_hours_data)[0][0]\n",
    "    predicted_temperature_scaled.append(next_temp_scaled)\n",
    "\n",
    "    # 更新输入数据，去掉最早的一个小时并加入最新预测的一个小时\n",
    "    last_24_hours_data = np.append(last_24_hours_data[:, 1:, :], [[[next_temp_scaled]]], axis=1)\n",
    "\n",
    "# 将预测结果逆标准化为实际温度\n",
    "predicted_temperature = scaler.inverse_transform(np.array(predicted_temperature_scaled).reshape(-1, 1))\n",
    "\n",
    "print(f\"未来24小时预测的气温: {predicted_temperature}°C\")"
   ]
  },
  {
   "cell_type": "code",
   "execution_count": null,
   "id": "9d64059c",
   "metadata": {},
   "outputs": [],
   "source": [
    "# 可视化结果\n",
    "plt.figure(figsize=(10, 6))\n",
    "plt.plot(data.index[-100:], temperature_data[-100:], label='历史气温')\n",
    "plt.plot([data.index[-1] + pd.Timedelta(hours=i) for i in range(1, 25)], predicted_temperature, label='预测气温',\n",
    "         color='red')\n",
    "plt.xlabel('时间')\n",
    "plt.ylabel('气温 (°C)')\n",
    "plt.legend()\n",
    "plt.show()"
   ]
  },
  {
   "cell_type": "code",
   "execution_count": null,
   "id": "f8bf7334",
   "metadata": {},
   "outputs": [],
   "source": []
  }
 ],
 "metadata": {
  "kernelspec": {
   "display_name": "Python 3 (ipykernel)",
   "language": "python",
   "name": "python3"
  },
  "language_info": {
   "codemirror_mode": {
    "name": "ipython",
    "version": 3
   },
   "file_extension": ".py",
   "mimetype": "text/x-python",
   "name": "python",
   "nbconvert_exporter": "python",
   "pygments_lexer": "ipython3",
   "version": "3.8.18"
  }
 },
 "nbformat": 4,
 "nbformat_minor": 5
}
